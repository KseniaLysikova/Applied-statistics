{
 "cells": [
  {
   "cell_type": "code",
   "execution_count": 1,
   "id": "4da62264-97ac-4922-af55-46eb702b3b77",
   "metadata": {},
   "outputs": [],
   "source": [
    "import math\n",
    "import numpy as np\n",
    "import matplotlib.pyplot as plt\n",
    "import scipy.stats as sts\n",
    "import random\n",
    "from scipy.stats import norm, t, chi2"
   ]
  },
  {
   "cell_type": "code",
   "execution_count": 92,
   "id": "14970bbf-6007-4816-9e53-ce689f6bf667",
   "metadata": {},
   "outputs": [],
   "source": [
    "p = 0.95"
   ]
  },
  {
   "cell_type": "code",
   "execution_count": 93,
   "id": "76e8ff01-332e-4803-a841-413c2e122952",
   "metadata": {},
   "outputs": [],
   "source": [
    "def get_sums(matrix):\n",
    "    sums_i = [sum(line) for line in matrix]\n",
    "    sums_j = [sum([matrix[i][j] for i in range(len(matrix))]) for j in range(len(matrix[0]))]\n",
    "    return sums_i, sums_j"
   ]
  },
  {
   "cell_type": "code",
   "execution_count": 94,
   "id": "ada039a1-c8c3-4b32-86a5-8396c3c75640",
   "metadata": {},
   "outputs": [],
   "source": [
    "def get_avgs(matrix):\n",
    "    avgs_i = [sum(line)/len(line) for line in matrix]\n",
    "    avgs_j = [sum([matrix[i][j] for i in range(len(matrix))])/len(matrix) for j in range(len(matrix[0]))]\n",
    "    return avgs_i, avgs_j"
   ]
  },
  {
   "cell_type": "code",
   "execution_count": 95,
   "id": "81065450-e74e-4a52-bafb-20beda310357",
   "metadata": {},
   "outputs": [],
   "source": [
    "# Выборочная дисперсия от фактора случайности\n",
    "def D(matrix):\n",
    "    k = len(matrix[0])\n",
    "    m = len(matrix)\n",
    "    avgs_hatch, avgs = get_avgs(matrix)\n",
    "    matrix_avg = sum([sum(line) for line in matrix]) / (k*m)\n",
    "    result = 0\n",
    "    for i in range(k):\n",
    "        for j in range(m):\n",
    "            result += (matrix[j][i] - avgs[i]) ** 2\n",
    "    for j in range(m):\n",
    "        result -= k * ((avgs_hatch[j] - matrix_avg)**2)\n",
    "    return result / ((k-1)*(m-1))"
   ]
  },
  {
   "cell_type": "code",
   "execution_count": 96,
   "id": "4b1c1493-e51c-40dd-b3ea-8e8d16b2908e",
   "metadata": {},
   "outputs": [],
   "source": [
    "# Выборочная дисперсия, включающая влияние фактора А и дисперсию от фактора случайности\n",
    "def DnA(matrix):\n",
    "    k = len(matrix[0])\n",
    "    m = len(matrix)\n",
    "    _, avgs = get_avgs(matrix)\n",
    "    matrix_avg = sum([sum(line) for line in matrix]) / (k*m)\n",
    "    result = 0\n",
    "    for i in range(k):\n",
    "        result += (avgs[i] - matrix_avg) ** 2\n",
    "    return m/(k-1) * result"
   ]
  },
  {
   "cell_type": "code",
   "execution_count": 97,
   "id": "2e126fa0-6a37-462e-9516-2844ba58731f",
   "metadata": {},
   "outputs": [],
   "source": [
    "# Выборочная дисперсия, включающая влияние фактора B и дисперсию от фактора случайности\n",
    "def DnB(matrix):\n",
    "    k = len(matrix[0])\n",
    "    m = len(matrix)\n",
    "    avgs_hatch, _ = get_avgs(matrix)\n",
    "    matrix_avg = sum([sum(line) for line in matrix]) / (k*m)\n",
    "    result = 0\n",
    "    for j in range(m):\n",
    "        result += (avgs_hatch[j] - matrix_avg) ** 2\n",
    "    return k/(m-1) * result"
   ]
  },
  {
   "cell_type": "code",
   "execution_count": 98,
   "id": "8d0df5c4-b751-443b-b406-e556704cc984",
   "metadata": {},
   "outputs": [],
   "source": [
    "#Оценка генеральной дисперсии если фактор А незначимый\n",
    "def genS_A(matrix):\n",
    "    k = len(matrix[0])\n",
    "    m = len(matrix)\n",
    "    return ((k-1)*DnA(matrix)+(k-1)*(m-1)*D(matrix))/((k-1)+(k-1)*(m-1))"
   ]
  },
  {
   "cell_type": "code",
   "execution_count": 99,
   "id": "5e3497c5-b999-4f5e-bc40-195e316ad72a",
   "metadata": {},
   "outputs": [],
   "source": [
    "#Оценка генеральной дисперсии если фактор B незначимый\n",
    "def genS_B(matrix):\n",
    "    k = len(matrix[0])\n",
    "    m = len(matrix)\n",
    "    return ((m-1)*DnB(matrix)+(k-1)*(m-1)*D(matrix))/((m-1)+(k-1)*(m-1))"
   ]
  },
  {
   "cell_type": "code",
   "execution_count": 100,
   "id": "06228404-11a1-4d43-ba5f-759f4c6f99e2",
   "metadata": {},
   "outputs": [],
   "source": [
    "#Оценка генеральной дисперсии если фактор A и фактор B незначимые\n",
    "def genS(matrix):\n",
    "    k = len(matrix[0])\n",
    "    m = len(matrix)\n",
    "    return ((k-1)*DnA(matrix)+(m-1)*DnB(matrix)+(k-1)*(m-1)*D(matrix))/((k-1)+(m-1)+(k-1)*(m-1))"
   ]
  },
  {
   "cell_type": "code",
   "execution_count": 101,
   "id": "47322065-7f9b-46b3-9e8c-0ab4df876ef6",
   "metadata": {},
   "outputs": [],
   "source": [
    "#Оценка дисперсии фактора A\n",
    "def SA(matrix):\n",
    "    m = len(matrix)\n",
    "    return (DnA(matrix) - D(matrix)) / m"
   ]
  },
  {
   "cell_type": "code",
   "execution_count": 102,
   "id": "8128a90d-caec-446e-81cd-f46129b096ca",
   "metadata": {},
   "outputs": [],
   "source": [
    "#Оценка дисперсии фактора B\n",
    "def SB(matrix):\n",
    "    k = len(matrix[0])\n",
    "    return (DnB(matrix) - D(matrix)) / k"
   ]
  },
  {
   "cell_type": "code",
   "execution_count": 125,
   "id": "7e4e6b99-fa36-4ab5-8b03-44f9434b251a",
   "metadata": {},
   "outputs": [
    {
     "name": "stdout",
     "output_type": "stream",
     "text": [
      "3.83\t3.00\t2.70\t3.18\t\n",
      "4.10\t3.13\t3.50\t3.58\t\n",
      "3.63\t3.60\t3.20\t3.48\t\n",
      "3.27\t3.50\t3.70\t3.49\t\n",
      "3.71\t3.31\t3.28\t\n"
     ]
    }
   ],
   "source": [
    "matrix = [\n",
    "    [3.83, 3, 2.7],\n",
    "    [4.1, 3.13, 3.5],\n",
    "    [3.63, 3.6, 3.2],\n",
    "    [3.27, 3.5, 3.7]\n",
    "]\n",
    "\n",
    "matrix1 = [\n",
    "    [3, 7, 3, 6, 6, 7, 6, 3, 8, 3],\n",
    "    [6, 5, 7, 4, 9, 4, 3, 2, 7, 8],\n",
    "    [8, 6, 3, 2, 7, 8, 6, 9, 3, 8],\n",
    "    [4, 7, 7, 8, 6, 4, 5, 8, 4, 7],\n",
    "    [6, 2, 6, 6, 8, 9, 7, 6, 8, 1]\n",
    "]\n",
    "\n",
    "avgs_i, avgs_j = get_avgs(matrix)\n",
    "for i in range(len(matrix)+1):\n",
    "    for j in range(len(matrix[0])+1):\n",
    "        if i < len(matrix) and j < len(matrix[0]):\n",
    "            print(f\"{matrix[i][j]:.2f}\", end=\"\\t\")\n",
    "        elif i < len(matrix):\n",
    "            print(f\"{avgs_i[i]:.2f}\", end=\"\\t\")\n",
    "        elif j < len(matrix[0]):\n",
    "            print(f\"{avgs_j[j]:.2f}\", end=\"\\t\")\n",
    "    print()"
   ]
  },
  {
   "cell_type": "markdown",
   "id": "1476757b-dc5c-43e0-bd27-473ac7910424",
   "metadata": {},
   "source": [
    "# Matrix 7"
   ]
  },
  {
   "cell_type": "code",
   "execution_count": 104,
   "id": "0343ec4c-6f1f-4835-bced-9aeb9b35d653",
   "metadata": {},
   "outputs": [
    {
     "name": "stdout",
     "output_type": "stream",
     "text": [
      "Выборочная дисперсия от фактора случайности: 0.15137500000000012\n"
     ]
    }
   ],
   "source": [
    "print(\"Выборочная дисперсия от фактора случайности:\",D(matrix))"
   ]
  },
  {
   "cell_type": "code",
   "execution_count": 105,
   "id": "c46d2d35-1ebf-42ec-a9a5-a9afc493d7a8",
   "metadata": {},
   "outputs": [
    {
     "name": "stdout",
     "output_type": "stream",
     "text": [
      "Фактор А незначимый\n"
     ]
    }
   ],
   "source": [
    "if DnA(matrix)/D(matrix) > sts.f.ppf(p, len(matrix[0])-1, (len(matrix[0])-1)*len(matrix)):\n",
    "    a_important = True\n",
    "    print(\"Фактор А значимый\")\n",
    "else:\n",
    "    a_important = False\n",
    "    print(\"Фактор А незначимый\")"
   ]
  },
  {
   "cell_type": "code",
   "execution_count": 106,
   "id": "0324bc95-8243-4b36-add7-5547d37e5ec0",
   "metadata": {},
   "outputs": [
    {
     "name": "stdout",
     "output_type": "stream",
     "text": [
      "Фактор B незначимый\n"
     ]
    }
   ],
   "source": [
    "if DnB(matrix)/D(matrix) > sts.f.ppf(p, len(matrix[0])-1, (len(matrix[0])-1)*len(matrix)):\n",
    "    b_important = True\n",
    "    print(\"Фактор B значимый\")\n",
    "else:\n",
    "    b_important = False\n",
    "    print(\"Фактор B незначимый\")"
   ]
  },
  {
   "cell_type": "code",
   "execution_count": 107,
   "id": "eba1ca06-157b-42d5-8403-eefff77cbefd",
   "metadata": {},
   "outputs": [
    {
     "name": "stdout",
     "output_type": "stream",
     "text": [
      "Оценка генеральной дисперсии учитывая что параметр А незначимый: 0.1715499999999999\n"
     ]
    }
   ],
   "source": [
    "if not a_important:\n",
    "    print(\"Оценка генеральной дисперсии учитывая что параметр А незначимый:\", genS_A(matrix))\n",
    "else:\n",
    "    print(\"Оценка параметра А:\", SA(matrix))"
   ]
  },
  {
   "cell_type": "code",
   "execution_count": 108,
   "id": "7acc22fd-f1c2-4ecf-8e7c-bb35f9130474",
   "metadata": {},
   "outputs": [
    {
     "name": "stdout",
     "output_type": "stream",
     "text": [
      "Оценка генеральной дисперсии учитывая что параметр B незначимый: 0.13140555555555553\n"
     ]
    }
   ],
   "source": [
    "if not b_important:\n",
    "    print(\"Оценка генеральной дисперсии учитывая что параметр B незначимый:\", genS_B(matrix))\n",
    "else:\n",
    "    print(\"Оценка параметра B:\", SB(matrix))"
   ]
  },
  {
   "cell_type": "code",
   "execution_count": 110,
   "id": "f6405b58-17a2-49dd-b175-d089133c2149",
   "metadata": {},
   "outputs": [
    {
     "name": "stdout",
     "output_type": "stream",
     "text": [
      "Оценка генеральной дисперсии учитывая что параметры А и В незначимые: 0.14970909090909076\n"
     ]
    }
   ],
   "source": [
    "if not a_important and not b_important:\n",
    "    print(\"Оценка генеральной дисперсии учитывая что параметры А и В незначимые:\", genS(matrix))"
   ]
  },
  {
   "cell_type": "code",
   "execution_count": 122,
   "id": "3814944c-e787-4aac-8c36-9a4262600b18",
   "metadata": {},
   "outputs": [
    {
     "name": "stdout",
     "output_type": "stream",
     "text": [
      "Фактор случайности: 0.15137500000000012\n",
      "Выборочная дисперсия учитывающая влияние фактора А: 0.23207499999999925\n",
      "Выборочная дисперсия учитывающая влияние фактора B: 0.09146666666666635\n"
     ]
    }
   ],
   "source": [
    "print(\"Фактор случайности:\",D(matrix))\n",
    "print(\"Выборочная дисперсия учитывающая влияние фактора А:\", DnA(matrix))\n",
    "print(\"Выборочная дисперсия учитывающая влияние фактора B:\", DnB(matrix))"
   ]
  },
  {
   "cell_type": "markdown",
   "id": "3bb836d5-6c0f-421d-9f78-4298da0ae96a",
   "metadata": {},
   "source": [
    "# Matrix 7_1"
   ]
  },
  {
   "cell_type": "code",
   "execution_count": 126,
   "id": "12f9a076-7013-410d-a80f-de30bf0ea834",
   "metadata": {},
   "outputs": [
    {
     "name": "stdout",
     "output_type": "stream",
     "text": [
      "Выборочная дисперсия от фактора случайности: 5.625555555555555\n"
     ]
    }
   ],
   "source": [
    "print(\"Выборочная дисперсия от фактора случайности:\",D(matrix1))"
   ]
  },
  {
   "cell_type": "code",
   "execution_count": 127,
   "id": "7128f6a0-282b-4165-923f-a1987c90e19a",
   "metadata": {},
   "outputs": [
    {
     "name": "stdout",
     "output_type": "stream",
     "text": [
      "Фактор А незначимый\n"
     ]
    }
   ],
   "source": [
    "if DnA(matrix1)/D(matrix1) > sts.f.ppf(p, len(matrix1[0])-1, (len(matrix1[0])-1)*len(matrix1)):\n",
    "    a_important = True\n",
    "    print(\"Фактор А значимый\")\n",
    "else:\n",
    "    a_important = False\n",
    "    print(\"Фактор А незначимый\")"
   ]
  },
  {
   "cell_type": "code",
   "execution_count": 128,
   "id": "51f20321-f2fa-41d6-a862-b44cb289a2a2",
   "metadata": {},
   "outputs": [
    {
     "name": "stdout",
     "output_type": "stream",
     "text": [
      "Фактор B незначимый\n"
     ]
    }
   ],
   "source": [
    "if DnB(matrix1)/D(matrix1) > sts.f.ppf(p, len(matrix1[0])-1, (len(matrix1[0])-1)*len(matrix1)):\n",
    "    b_important = True\n",
    "    print(\"Фактор B значимый\")\n",
    "else:\n",
    "    b_important = False\n",
    "    print(\"Фактор B незначимый\")"
   ]
  },
  {
   "cell_type": "code",
   "execution_count": 129,
   "id": "3475c1d8-adf5-43a6-b91b-5ca8f25d2c2f",
   "metadata": {},
   "outputs": [
    {
     "name": "stdout",
     "output_type": "stream",
     "text": [
      "Оценка генеральной дисперсии учитывая что параметр А незначимый: 4.911111111111111\n"
     ]
    }
   ],
   "source": [
    "if not a_important:\n",
    "    print(\"Оценка генеральной дисперсии учитывая что параметр А незначимый:\", genS_A(matrix1))\n",
    "else:\n",
    "    print(\"Оценка параметра А:\", SA(matrix1))"
   ]
  },
  {
   "cell_type": "code",
   "execution_count": 130,
   "id": "88caf70f-2948-4e2d-aad7-212f55fff251",
   "metadata": {},
   "outputs": [
    {
     "name": "stdout",
     "output_type": "stream",
     "text": [
      "Оценка генеральной дисперсии учитывая что параметр B незначимый: 5.1899999999999995\n"
     ]
    }
   ],
   "source": [
    "if not b_important:\n",
    "    print(\"Оценка генеральной дисперсии учитывая что параметр B незначимый:\", genS_B(matrix1))\n",
    "else:\n",
    "    print(\"Оценка параметра B:\", SB(matrix1))"
   ]
  },
  {
   "cell_type": "code",
   "execution_count": 131,
   "id": "2474d5f9-ea2c-4d89-8e53-73d70df392cb",
   "metadata": {},
   "outputs": [
    {
     "name": "stdout",
     "output_type": "stream",
     "text": [
      "Оценка генеральной дисперсии учитывая что параметры А и В незначимые: 0.14970909090909076\n"
     ]
    }
   ],
   "source": [
    "if not a_important and not b_important:\n",
    "    print(\"Оценка генеральной дисперсии учитывая что параметры А и В незначимые:\", genS(matrix))"
   ]
  },
  {
   "cell_type": "code",
   "execution_count": 132,
   "id": "3c1c21b5-1eb3-44ee-8f34-fbad909a6d54",
   "metadata": {},
   "outputs": [
    {
     "name": "stdout",
     "output_type": "stream",
     "text": [
      "Фактор случайности: 5.625555555555555\n",
      "Выборочная дисперсия учитывающая влияние фактора А: 2.0533333333333337\n",
      "Выборочная дисперсия учитывающая влияние фактора B: 1.2699999999999998\n"
     ]
    }
   ],
   "source": [
    "print(\"Фактор случайности:\",D(matrix1))\n",
    "print(\"Выборочная дисперсия учитывающая влияние фактора А:\", DnA(matrix1))\n",
    "print(\"Выборочная дисперсия учитывающая влияние фактора B:\", DnB(matrix1))"
   ]
  },
  {
   "cell_type": "code",
   "execution_count": null,
   "id": "6ccb0f99-b20a-40db-b642-026cb8978cc6",
   "metadata": {},
   "outputs": [],
   "source": []
  }
 ],
 "metadata": {
  "kernelspec": {
   "display_name": "Python 3 (ipykernel)",
   "language": "python",
   "name": "python3"
  },
  "language_info": {
   "codemirror_mode": {
    "name": "ipython",
    "version": 3
   },
   "file_extension": ".py",
   "mimetype": "text/x-python",
   "name": "python",
   "nbconvert_exporter": "python",
   "pygments_lexer": "ipython3",
   "version": "3.10.12"
  }
 },
 "nbformat": 4,
 "nbformat_minor": 5
}
